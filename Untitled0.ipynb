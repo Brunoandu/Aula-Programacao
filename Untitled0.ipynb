{
  "nbformat": 4,
  "nbformat_minor": 0,
  "metadata": {
    "colab": {
      "provenance": [],
      "authorship_tag": "ABX9TyOllqHrny8jbOvlyro7a41Y",
      "include_colab_link": true
    },
    "kernelspec": {
      "name": "python3",
      "display_name": "Python 3"
    },
    "language_info": {
      "name": "python"
    }
  },
  "cells": [
    {
      "cell_type": "markdown",
      "metadata": {
        "id": "view-in-github",
        "colab_type": "text"
      },
      "source": [
        "<a href=\"https://colab.research.google.com/github/Brunoandu/Aula-Programacao/blob/main/Untitled0.ipynb\" target=\"_parent\"><img src=\"https://colab.research.google.com/assets/colab-badge.svg\" alt=\"Open In Colab\"/></a>"
      ]
    },
    {
      "cell_type": "code",
      "execution_count": 1,
      "metadata": {
        "colab": {
          "base_uri": "https://localhost:8080/"
        },
        "id": "yUmUPQi68gtv",
        "outputId": "05274128-917d-460e-bafe-5a1645a1c563"
      },
      "outputs": [
        {
          "output_type": "stream",
          "name": "stdout",
          "text": [
            "Digite a idade do atleta! 23\n",
            "Senior\n"
          ]
        }
      ],
      "source": [
        "idade = int(input('Digite a idade do atleta! '))\n",
        "if(idade < 14):\n",
        "  print('Infantil')\n",
        "elif(idade < 18):\n",
        "  print('Juvenil')\n",
        "else:\n",
        "  print('Senior')"
      ]
    },
    {
      "cell_type": "code",
      "source": [
        "#Lista\n",
        "num = [1, 4, 3, 6, 9, 16]"
      ],
      "metadata": {
        "id": "Av8mu0Gq_v-m"
      },
      "execution_count": 5,
      "outputs": []
    },
    {
      "cell_type": "code",
      "source": [
        "#Tamanho da lista\n",
        "len(num)"
      ],
      "metadata": {
        "colab": {
          "base_uri": "https://localhost:8080/"
        },
        "id": "HN7kVRzUAzON",
        "outputId": "3e424263-5463-42b2-9da5-2f54ff68cfca"
      },
      "execution_count": 6,
      "outputs": [
        {
          "output_type": "execute_result",
          "data": {
            "text/plain": [
              "6"
            ]
          },
          "metadata": {},
          "execution_count": 6
        }
      ]
    },
    {
      "cell_type": "code",
      "source": [
        "num[5]"
      ],
      "metadata": {
        "colab": {
          "base_uri": "https://localhost:8080/"
        },
        "id": "kJ7hdckfCV2a",
        "outputId": "fc6e4904-e0b2-49a3-ccfd-8754668d5af0"
      },
      "execution_count": 10,
      "outputs": [
        {
          "output_type": "execute_result",
          "data": {
            "text/plain": [
              "16"
            ]
          },
          "metadata": {},
          "execution_count": 10
        }
      ]
    },
    {
      "cell_type": "code",
      "source": [
        "alunos = ['Eduardo', 'Daniel', 'Eduarda', 'Bruno', 'Gabriel', 'Alanna']\n",
        "alunos[2]"
      ],
      "metadata": {
        "colab": {
          "base_uri": "https://localhost:8080/",
          "height": 35
        },
        "id": "_EInWAhADLps",
        "outputId": "5cc29282-e5bf-416c-a5b3-adaac5ba3df3"
      },
      "execution_count": 15,
      "outputs": [
        {
          "output_type": "execute_result",
          "data": {
            "text/plain": [
              "'Eduarda'"
            ],
            "application/vnd.google.colaboratory.intrinsic+json": {
              "type": "string"
            }
          },
          "metadata": {},
          "execution_count": 15
        }
      ]
    },
    {
      "cell_type": "code",
      "source": [
        "len(alunos)"
      ],
      "metadata": {
        "colab": {
          "base_uri": "https://localhost:8080/"
        },
        "id": "kh1Qo_aVEPpf",
        "outputId": "c47136d9-7794-4a0d-d925-2c591a154b25"
      },
      "execution_count": 12,
      "outputs": [
        {
          "output_type": "execute_result",
          "data": {
            "text/plain": [
              "6"
            ]
          },
          "metadata": {},
          "execution_count": 12
        }
      ]
    },
    {
      "cell_type": "code",
      "source": [
        "#Alterar os itens da lista\n",
        "alunos[3] = 'Anne'"
      ],
      "metadata": {
        "id": "mXDOEuq9FNWa"
      },
      "execution_count": 19,
      "outputs": []
    },
    {
      "cell_type": "code",
      "source": [
        "#Inserir valores na lista .append()\n",
        "alunos.append('Luciane')\n",
        "alunos"
      ],
      "metadata": {
        "colab": {
          "base_uri": "https://localhost:8080/"
        },
        "id": "ndR8sgMaF5vw",
        "outputId": "0cedd4f2-d622-487b-d55c-4456b473df4f"
      },
      "execution_count": 17,
      "outputs": [
        {
          "output_type": "execute_result",
          "data": {
            "text/plain": [
              "['Eduardo', 'Daniel', 'Eduarda', 'Bruno', 'Gabriel', 'Alanna', 'Luciane']"
            ]
          },
          "metadata": {},
          "execution_count": 17
        }
      ]
    },
    {
      "cell_type": "code",
      "source": [
        "alunos.append(input('Digite o nome: '))"
      ],
      "metadata": {
        "colab": {
          "base_uri": "https://localhost:8080/"
        },
        "id": "23fexuICGUP-",
        "outputId": "173d2c85-c8d4-4ef0-adf7-1b0e0954ac3a"
      },
      "execution_count": 18,
      "outputs": [
        {
          "name": "stdout",
          "output_type": "stream",
          "text": [
            "Digite o nome: Maria Eduarda\n"
          ]
        }
      ]
    },
    {
      "cell_type": "code",
      "source": [
        "#Desobrir o valor determinado da lista\n",
        "if 'Bruno' in alunos:\n",
        "  print('Tem Bruno SIIM')\n",
        "else:\n",
        "  print('Tem Bruno nãooooooo!')"
      ],
      "metadata": {
        "colab": {
          "base_uri": "https://localhost:8080/"
        },
        "id": "nzFRBHCmM9Eq",
        "outputId": "a71d4312-5303-41f9-97cf-ef0af8c696a4"
      },
      "execution_count": 23,
      "outputs": [
        {
          "output_type": "stream",
          "name": "stdout",
          "text": [
            "Tem Bruno nãooooooo!\n"
          ]
        }
      ]
    },
    {
      "cell_type": "code",
      "source": [
        "if (20 == 30):\n",
        "  print('sim')\n",
        "elif(20 > 30):\n",
        "  print('iguais')\n",
        "else:\n",
        "  print('Menor')\n"
      ],
      "metadata": {
        "colab": {
          "base_uri": "https://localhost:8080/"
        },
        "id": "Kq0MZqq4Nk35",
        "outputId": "e67140a0-5115-425e-bf4a-9b5feaed665a"
      },
      "execution_count": 22,
      "outputs": [
        {
          "output_type": "stream",
          "name": "stdout",
          "text": [
            "Menor\n"
          ]
        }
      ]
    },
    {
      "cell_type": "code",
      "source": [
        "nome = input('Digite o nome: ')\n",
        "if nome in alunos:\n",
        "  print('Tem ', nome)\n",
        "else:\n",
        "  print('Não tem ' , nome)"
      ],
      "metadata": {
        "colab": {
          "base_uri": "https://localhost:8080/"
        },
        "id": "5iuN7EfwPzFl",
        "outputId": "276e0f41-2393-4563-bc1d-516b966ce58f"
      },
      "execution_count": 26,
      "outputs": [
        {
          "output_type": "stream",
          "name": "stdout",
          "text": [
            "Digite o nome: Lara\n",
            "Não tem  Lara\n"
          ]
        }
      ]
    },
    {
      "cell_type": "code",
      "source": [
        "del alunos[0]"
      ],
      "metadata": {
        "id": "gAl67QLaR--8"
      },
      "execution_count": null,
      "outputs": []
    },
    {
      "cell_type": "code",
      "source": [
        "numeros = []\n",
        "for num in range(16):\n",
        "  numeros.append(num)\n",
        "numeros"
      ],
      "metadata": {
        "colab": {
          "base_uri": "https://localhost:8080/"
        },
        "id": "YRF1fYPsT2Ck",
        "outputId": "6744eb7d-2bd6-41c0-dcef-4e8e97337b3a"
      },
      "execution_count": 28,
      "outputs": [
        {
          "output_type": "execute_result",
          "data": {
            "text/plain": [
              "[0, 1, 2, 3, 4, 5, 6, 7, 8, 9, 10, 11, 12, 13, 14, 15]"
            ]
          },
          "metadata": {},
          "execution_count": 28
        }
      ]
    },
    {
      "cell_type": "code",
      "source": [
        "dobro = []\n",
        "for num in numeros:\n",
        "   dobro.append(numeros[num]*2)\n",
        "dobro\n"
      ],
      "metadata": {
        "colab": {
          "base_uri": "https://localhost:8080/"
        },
        "id": "1xeWdrzbWvzd",
        "outputId": "64e6e02b-ee35-4ec3-f7dc-acff78f22c5a"
      },
      "execution_count": 33,
      "outputs": [
        {
          "output_type": "execute_result",
          "data": {
            "text/plain": [
              "[0, 2, 4, 6, 8, 10, 12, 14, 16, 18, 20, 22, 24, 26, 28, 30]"
            ]
          },
          "metadata": {},
          "execution_count": 33
        }
      ]
    },
    {
      "cell_type": "code",
      "source": [
        "#Descobrir se um numero é par\n",
        "a = 8\n",
        "if a%2 == 0:\n",
        "  print('É par')\n",
        "else:\n",
        "  print('É impar')"
      ],
      "metadata": {
        "colab": {
          "base_uri": "https://localhost:8080/"
        },
        "id": "aTuIZwfnXFPH",
        "outputId": "49109726-bfa1-4c35-b242-cb8f0554c739"
      },
      "execution_count": 40,
      "outputs": [
        {
          "output_type": "stream",
          "name": "stdout",
          "text": [
            "É par\n"
          ]
        }
      ]
    },
    {
      "cell_type": "code",
      "source": [
        "for num in numeros:\n",
        "  if numeros[num]%2 == 0:\n",
        "    print(numeros[num])"
      ],
      "metadata": {
        "colab": {
          "base_uri": "https://localhost:8080/"
        },
        "id": "31rAxVTxZIsV",
        "outputId": "854b11cc-2ab5-4a76-c770-cea99bd21c7b"
      },
      "execution_count": 41,
      "outputs": [
        {
          "output_type": "stream",
          "name": "stdout",
          "text": [
            "0\n",
            "2\n",
            "4\n",
            "6\n",
            "8\n",
            "10\n",
            "12\n",
            "14\n"
          ]
        }
      ]
    }
  ]
}