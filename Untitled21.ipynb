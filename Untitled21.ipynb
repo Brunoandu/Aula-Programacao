{
  "nbformat": 4,
  "nbformat_minor": 0,
  "metadata": {
    "colab": {
      "provenance": [],
      "authorship_tag": "ABX9TyOfjj2u+Aqi2NguaPFqDKbu",
      "include_colab_link": true
    },
    "kernelspec": {
      "name": "python3",
      "display_name": "Python 3"
    },
    "language_info": {
      "name": "python"
    }
  },
  "cells": [
    {
      "cell_type": "markdown",
      "metadata": {
        "id": "view-in-github",
        "colab_type": "text"
      },
      "source": [
        "<a href=\"https://colab.research.google.com/github/Brunoandu/Aula-Programacao/blob/main/Untitled21.ipynb\" target=\"_parent\"><img src=\"https://colab.research.google.com/assets/colab-badge.svg\" alt=\"Open In Colab\"/></a>"
      ]
    },
    {
      "cell_type": "code",
      "execution_count": 1,
      "metadata": {
        "colab": {
          "base_uri": "https://localhost:8080/"
        },
        "id": "6b6uaC1ET_DG",
        "outputId": "ad0f10bb-e75b-4991-8716-85716b24525a"
      },
      "outputs": [
        {
          "output_type": "execute_result",
          "data": {
            "text/plain": [
              "('maçã', 'banana', 'laranja', 'goiaba')"
            ]
          },
          "metadata": {},
          "execution_count": 1
        }
      ],
      "source": [
        "tp_frutas = ('maçã', 'banana', 'laranja', 'goiaba')\n",
        "tp_frutas"
      ]
    },
    {
      "cell_type": "code",
      "source": [
        "#Tamanho de uma tupla\n",
        "len(tp_frutas)"
      ],
      "metadata": {
        "colab": {
          "base_uri": "https://localhost:8080/"
        },
        "id": "rNuzq9CMWqFb",
        "outputId": "a8e263b8-63a0-4117-afe0-5b62e2356b53"
      },
      "execution_count": 4,
      "outputs": [
        {
          "output_type": "execute_result",
          "data": {
            "text/plain": [
              "4"
            ]
          },
          "metadata": {},
          "execution_count": 4
        }
      ]
    },
    {
      "cell_type": "code",
      "source": [
        "#Criando uma lista a partir de uma tupla ou uma tupla a partir de uma lista\n",
        "lst_frutas = list(tp_frutas)\n",
        "type(lst_frutas)\n",
        "lst_frutas\n",
        "tp_frutas2 = tuple(lst_frutas)\n",
        "type(tp_frutas2)"
      ],
      "metadata": {
        "colab": {
          "base_uri": "https://localhost:8080/"
        },
        "id": "ByPtVBjcXOFj",
        "outputId": "179d297f-011c-4c54-80ac-58518ee39aca"
      },
      "execution_count": 8,
      "outputs": [
        {
          "output_type": "execute_result",
          "data": {
            "text/plain": [
              "tuple"
            ]
          },
          "metadata": {},
          "execution_count": 8
        }
      ]
    },
    {
      "cell_type": "code",
      "source": [
        "#fatiamento\n",
        "tp_meses = ('jan', 'fev', 'mar', 'abr', 'maio', 'jun', 'jul', 'ago', 'set', 'out', 'nov', 'dez')\n",
        "#Meses de junho a novembro\n",
        "tp_meses[5:11]"
      ],
      "metadata": {
        "colab": {
          "base_uri": "https://localhost:8080/"
        },
        "id": "su9EZ3aeZFx9",
        "outputId": "a64f9df9-8cd5-47fb-e3c3-1e7f4f029d32"
      },
      "execution_count": 10,
      "outputs": [
        {
          "output_type": "execute_result",
          "data": {
            "text/plain": [
              "('jun', 'jul', 'ago', 'set', 'out', 'nov')"
            ]
          },
          "metadata": {},
          "execution_count": 10
        }
      ]
    },
    {
      "cell_type": "code",
      "source": [
        "#usando o processo de fatiamento,crie uma nova tupla apenas\n",
        "#com os meses do segundo trimestre (abril-jun)\n",
        "tp_meses = ('jan', 'fev', 'mar', 'abr', 'maio', 'jun', 'jul', 'ago', 'set' 'out', 'nov', 'dez')\n",
        "tp_meses[3:6]"
      ],
      "metadata": {
        "colab": {
          "base_uri": "https://localhost:8080/"
        },
        "id": "ZB1gLjGnZyA_",
        "outputId": "83fa4f1d-415e-41d4-a7a8-b35303361035"
      },
      "execution_count": 13,
      "outputs": [
        {
          "output_type": "execute_result",
          "data": {
            "text/plain": [
              "('abr', 'maio', 'jun')"
            ]
          },
          "metadata": {},
          "execution_count": 13
        }
      ]
    },
    {
      "cell_type": "code",
      "source": [
        "#Ordenação de dados *sort(value, key = x)\n",
        "#ordenar os estados pelo DDD e não pelo nome\n",
        "uf_cod = [('PE', 81), ('RJ', 21), ('SP', 11), ('PB', 83)]\n",
        "sorted(uf_cod, key = lambda x : x[1])"
      ],
      "metadata": {
        "colab": {
          "base_uri": "https://localhost:8080/"
        },
        "id": "bKjqs6nea5MB",
        "outputId": "09163086-30a7-4f1c-983b-7111607a0aa0"
      },
      "execution_count": 15,
      "outputs": [
        {
          "output_type": "execute_result",
          "data": {
            "text/plain": [
              "[('SP', 11), ('RJ', 21), ('PE', 81), ('PB', 83)]"
            ]
          },
          "metadata": {},
          "execution_count": 15
        }
      ]
    },
    {
      "cell_type": "code",
      "source": [
        "#coloque a tupla a seguir em ordem do mais novo para o mais velho\n",
        "nome_nasc = [('Luana', 2003), ('Maria Eduarda', 2005), ('Alanna', 2000)]\n",
        "sorted(nome_nasc,key = lambda x: x[1])"
      ],
      "metadata": {
        "colab": {
          "base_uri": "https://localhost:8080/"
        },
        "id": "nLaunNihd5Ia",
        "outputId": "39624e31-290d-4633-bbca-f85d1dc993a0"
      },
      "execution_count": 22,
      "outputs": [
        {
          "output_type": "execute_result",
          "data": {
            "text/plain": [
              "[('Alanna', 2000), ('Luana', 2003), ('Maria Eduarda', 2005)]"
            ]
          },
          "metadata": {},
          "execution_count": 22
        }
      ]
    },
    {
      "cell_type": "code",
      "source": [
        "#Do mais velho para o mais novo\n",
        "nome_nasc = [('Luana', 2003), ('Maria Eduarda', 2005), ('Alanna', 2000)]\n",
        "sorted(nome_nasc,key = lambda x: x[1], reverse = True)\n"
      ],
      "metadata": {
        "colab": {
          "base_uri": "https://localhost:8080/"
        },
        "id": "VRIjtqTAfVs7",
        "outputId": "f2691087-a8fc-4965-8dce-3a5151b4129f"
      },
      "execution_count": 23,
      "outputs": [
        {
          "output_type": "execute_result",
          "data": {
            "text/plain": [
              "[('Maria Eduarda', 2005), ('Luana', 2003), ('Alanna', 2000)]"
            ]
          },
          "metadata": {},
          "execution_count": 23
        }
      ]
    },
    {
      "cell_type": "code",
      "source": [
        "#Desempacotamento de valores.\n",
        "def nome_idade_uf():\n",
        "  nome = \"Bruno\"\n",
        "  idade = 16\n",
        "  uf = 'SC'\n",
        "  return nome, idade, uf\n",
        "\n",
        "name, age, uf = nome_idade_uf()\n",
        "\n",
        "print(name, age, uf)\n"
      ],
      "metadata": {
        "colab": {
          "base_uri": "https://localhost:8080/"
        },
        "id": "MwI1hIW-luPq",
        "outputId": "2baffabf-0493-45d9-e359-91fdd2e275b8"
      },
      "execution_count": 26,
      "outputs": [
        {
          "output_type": "stream",
          "name": "stdout",
          "text": [
            "Bruno 16 SC\n"
          ]
        }
      ]
    },
    {
      "cell_type": "code",
      "source": [
        "#Mapeamento de valores\n",
        "alunos = ('Elizabeth', 'Hellen', 'Melina', 'Miguel', 'Amanda')\n",
        "notas = (5.5, 8.9, 9, 7.5, 6.5)\n",
        "\n",
        "Av1 = tuple(zip(alunos, notas))\n",
        "\n",
        "Av1"
      ],
      "metadata": {
        "colab": {
          "base_uri": "https://localhost:8080/"
        },
        "id": "FVHEnrw2ndpt",
        "outputId": "6ff8e73e-f7d9-49e1-949c-c1e4fa487eb1"
      },
      "execution_count": 30,
      "outputs": [
        {
          "output_type": "execute_result",
          "data": {
            "text/plain": [
              "(('Elizabeth', 5.5),\n",
              " ('Hellen', 8.9),\n",
              " ('Melina', 9),\n",
              " ('Miguel', 7.5),\n",
              " ('Amanda', 6.5))"
            ]
          },
          "metadata": {},
          "execution_count": 30
        }
      ]
    },
    {
      "cell_type": "markdown",
      "source": [],
      "metadata": {
        "id": "JyLZ-xqjqqCi"
      }
    },
    {
      "cell_type": "code",
      "source": [
        "#tente inserir algum elemento na tupla \n",
        "#tente modificar um valor de elemento na tupla\n",
        "tp_frutas.append('morango')\n",
        "tp_frutas\n"
      ],
      "metadata": {
        "id": "4Hxw2-asYZnV"
      },
      "execution_count": null,
      "outputs": []
    },
    {
      "cell_type": "markdown",
      "source": [
        "Exercicio de Tuplas\n",
        "\n",
        "1.Escreva uma função que receba duas tuplas como entrada e retorne uma única tupla que seja a concatenação das duas \n",
        "\n",
        "2.Escreva uma função que receba uma tupla contendo o nome e endereço:logradouro,numero e bairro de uma pessoa e retorne uma string\n",
        "\n",
        "3.Escreva uma função que receba uma lista de tuplas contendo nome e idade de pessoas e retorne a lista ordenada por idade"
      ],
      "metadata": {
        "id": "JTGqs7_0qqIs"
      }
    },
    {
      "cell_type": "code",
      "source": [
        "def concatenaTupla (tp1, tp2):\n",
        "  return tp1 + tp2\n",
        "\n",
        "a = (2, 4, 5)\n",
        "b = (6, 8, 12)\n",
        "concatenaTupla(a, b)\n",
        "\n",
        "  "
      ],
      "metadata": {
        "colab": {
          "base_uri": "https://localhost:8080/"
        },
        "id": "d6qeRP_Mrgce",
        "outputId": "33f79c8c-c7f5-482f-9a1f-eafa37b35c19"
      },
      "execution_count": 35,
      "outputs": [
        {
          "output_type": "execute_result",
          "data": {
            "text/plain": [
              "(2, 4, 5, 6, 8, 12)"
            ]
          },
          "metadata": {},
          "execution_count": 35
        }
      ]
    },
    {
      "cell_type": "code",
      "source": [
        "def formatada(tupla):\n",
        "  nome, logradouro, num, bairro = tupla\n",
        "  return f'Nome:{nome}, residente a {logradouro}, {num}, {bairro}.'\n",
        "\n",
        "dadosCliente = ('Manoelina', 'Rua dos jambos', '60', 'Ipes')\n",
        "\n",
        "print(formatada(dadosCliente))\n"
      ],
      "metadata": {
        "colab": {
          "base_uri": "https://localhost:8080/"
        },
        "id": "O5GyL72CvTsG",
        "outputId": "ab48f1a8-f257-40b7-9e1e-adb9face51b2"
      },
      "execution_count": 41,
      "outputs": [
        {
          "output_type": "stream",
          "name": "stdout",
          "text": [
            "Nome:Manoelina, residente a Rua dos jambos, 60, Ipes.\n"
          ]
        }
      ]
    }
  ]
}