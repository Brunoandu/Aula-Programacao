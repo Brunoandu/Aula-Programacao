{
  "nbformat": 4,
  "nbformat_minor": 0,
  "metadata": {
    "colab": {
      "provenance": [],
      "authorship_tag": "ABX9TyMS6KpuUguSrJfDP95khXIN",
      "include_colab_link": true
    },
    "kernelspec": {
      "name": "python3",
      "display_name": "Python 3"
    },
    "language_info": {
      "name": "python"
    }
  },
  "cells": [
    {
      "cell_type": "markdown",
      "metadata": {
        "id": "view-in-github",
        "colab_type": "text"
      },
      "source": [
        "<a href=\"https://colab.research.google.com/github/Brunoandu/Aula-Programacao/blob/main/Untitled7.ipynb\" target=\"_parent\"><img src=\"https://colab.research.google.com/assets/colab-badge.svg\" alt=\"Open In Colab\"/></a>"
      ]
    },
    {
      "cell_type": "code",
      "execution_count": 2,
      "metadata": {
        "id": "lEXgPldZDlqM"
      },
      "outputs": [],
      "source": [
        "#função calcula média\n",
        "def calculaMedia(x, y, z):\n",
        "  return (x+y+z)/3"
      ]
    },
    {
      "cell_type": "code",
      "source": [
        "a = float(input('Nota 1: '))\n",
        "b = float(input('Nota 2: '))\n",
        "c = float(input('Nota 3: '))\n",
        "\n",
        "calculaMedia(a, b, c)"
      ],
      "metadata": {
        "colab": {
          "base_uri": "https://localhost:8080/"
        },
        "id": "meZWgheTEC67",
        "outputId": "8b4d7472-3183-4b40-e203-1c28a38fb853"
      },
      "execution_count": 3,
      "outputs": [
        {
          "name": "stdout",
          "output_type": "stream",
          "text": [
            "Nota 1: 10\n",
            "Nota 2: 10\n",
            "Nota 3: 10\n"
          ]
        },
        {
          "output_type": "execute_result",
          "data": {
            "text/plain": [
              "10.0"
            ]
          },
          "metadata": {},
          "execution_count": 3
        }
      ]
    },
    {
      "cell_type": "code",
      "source": [
        "#Argumentos arbitrários *args\n",
        "#Quando não se tem certeza quantos argumentos são passados pela função\n",
        "def mediaTotal(*notas):\n",
        "  soma = 0\n",
        "  for nota in notas:\n",
        "    soma += nota\n",
        "  media = soma/len(notas)\n",
        "  return round(media, 3)"
      ],
      "metadata": {
        "id": "6ChrM5O9L6S1"
      },
      "execution_count": 4,
      "outputs": []
    },
    {
      "cell_type": "code",
      "source": [
        "mediaTotal(9,7,8,9,9,2,3,1,6)"
      ],
      "metadata": {
        "colab": {
          "base_uri": "https://localhost:8080/"
        },
        "id": "HhVP9r-_NYDv",
        "outputId": "e18a76cb-6ad2-421a-9cf1-56201e7483bd"
      },
      "execution_count": 5,
      "outputs": [
        {
          "output_type": "execute_result",
          "data": {
            "text/plain": [
              "6.0"
            ]
          },
          "metadata": {},
          "execution_count": 5
        }
      ]
    },
    {
      "cell_type": "code",
      "source": [
        "#Recebe vários números e retorna o maior.\n",
        "def retornaMaior(*numeros):\n",
        "  maior = 0\n",
        "  for n in numeros:\n",
        "    if(n >= maior):\n",
        "      maior = n\n",
        "  return maior \n",
        "\n",
        "\n",
        "\n"
      ],
      "metadata": {
        "id": "u2dI4H23QERA"
      },
      "execution_count": 7,
      "outputs": []
    },
    {
      "cell_type": "code",
      "source": [
        "retornaMaior(2, 5, 17, 3, 23, 5)"
      ],
      "metadata": {
        "colab": {
          "base_uri": "https://localhost:8080/"
        },
        "id": "UJEnaJd1bUgv",
        "outputId": "82506070-57e2-4c20-98d5-766e81eb7e1b"
      },
      "execution_count": 8,
      "outputs": [
        {
          "output_type": "execute_result",
          "data": {
            "text/plain": [
              "23"
            ]
          },
          "metadata": {},
          "execution_count": 8
        }
      ]
    },
    {
      "cell_type": "code",
      "source": [
        "def returnMaior(numeros):\n",
        "  return max(numeros)"
      ],
      "metadata": {
        "id": "znpLvD0ncus7"
      },
      "execution_count": 9,
      "outputs": []
    },
    {
      "cell_type": "code",
      "source": [
        "notas = [8, 9, 4, 5, 6, 8, 3, 10]\n",
        "\n",
        "returnMaior(notas)"
      ],
      "metadata": {
        "colab": {
          "base_uri": "https://localhost:8080/"
        },
        "id": "wL68U5yDc_zK",
        "outputId": "c33c6f90-6751-49cb-d2b3-f11ffaa071f6"
      },
      "execution_count": 10,
      "outputs": [
        {
          "output_type": "execute_result",
          "data": {
            "text/plain": [
              "10"
            ]
          },
          "metadata": {},
          "execution_count": 10
        }
      ]
    },
    {
      "cell_type": "code",
      "source": [
        "#Valor de parâmetro padrão\n",
        "def nacionalidade(country = 'Cuba'):\n",
        "  print('Eu nasci em: '+ country)"
      ],
      "metadata": {
        "id": "B31yEyMqeYIc"
      },
      "execution_count": 11,
      "outputs": []
    },
    {
      "cell_type": "code",
      "source": [
        "nacionalidade('Brasil')\n",
        "nacionalidade('Cuba')\n",
        "nacionalidade('Argentina')\n",
        "nacionalidade('Portugal')\n",
        "nacionalidade('Chile')\n",
        "nacionalidade('Espanha')"
      ],
      "metadata": {
        "colab": {
          "base_uri": "https://localhost:8080/"
        },
        "id": "-xlP6F4hfQCF",
        "outputId": "08d90ca2-5593-4a30-d9f6-980c22286af8"
      },
      "execution_count": 12,
      "outputs": [
        {
          "output_type": "stream",
          "name": "stdout",
          "text": [
            "Eu nasci em: Brasil\n",
            "Eu nasci em: Cuba\n",
            "Eu nasci em: Argentina\n",
            "Eu nasci em: Portugal\n",
            "Eu nasci em: Chile\n",
            "Eu nasci em: Espanha\n"
          ]
        }
      ]
    },
    {
      "cell_type": "code",
      "source": [
        "#1 Escreva uma função que recebe dois parâmetros numéricos e \n",
        "#retorna a soma desses numeros.\n",
        "def soma(a, b):\n",
        "  return a + b\n",
        "  \n"
      ],
      "metadata": {
        "id": "oq1dCxaDgxkF"
      },
      "execution_count": 13,
      "outputs": []
    },
    {
      "cell_type": "code",
      "source": [
        "#2 Escreva uma função que recebe um número e\n",
        "#retorna o seu valor absoluto.\n",
        "def valorAbsoluto(num):\n",
        "  if(num < 0):\n",
        "    num = num * -1\n",
        "  return num"
      ],
      "metadata": {
        "id": "UBYcdIrSiX3B"
      },
      "execution_count": 14,
      "outputs": []
    },
    {
      "cell_type": "code",
      "source": [
        "#Escreva uma lista que retorne o maior valor \n"
      ],
      "metadata": {
        "id": "y7W3GLoLjQap"
      },
      "execution_count": 15,
      "outputs": []
    },
    {
      "cell_type": "code",
      "source": [
        "#4 Escreva uma função que recebe uma lista de palavras e\n",
        "#retorna uma lista com as palavras que possuem mais de três letras.\n",
        "def maiorque3(lista):\n",
        "  lista3 = []\n",
        "  for item in lista:\n",
        "    if(len(item) > 3):\n",
        "      lista3.append(item)\n",
        "  return lista3"
      ],
      "metadata": {
        "id": "F0ze2jkejiwq"
      },
      "execution_count": 16,
      "outputs": []
    },
    {
      "cell_type": "code",
      "source": [
        "materiais = ['aço', 'ferro', 'ouro']\n",
        "maiorque3(materiais)"
      ],
      "metadata": {
        "colab": {
          "base_uri": "https://localhost:8080/"
        },
        "id": "K_FRdEHEkum8",
        "outputId": "35d2e043-f3e0-4e05-f02f-f25881a2f6fb"
      },
      "execution_count": 17,
      "outputs": [
        {
          "output_type": "execute_result",
          "data": {
            "text/plain": [
              "['ferro', 'ouro']"
            ]
          },
          "metadata": {},
          "execution_count": 17
        }
      ]
    }
  ]
}