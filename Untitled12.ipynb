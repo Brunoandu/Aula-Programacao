{
  "nbformat": 4,
  "nbformat_minor": 0,
  "metadata": {
    "colab": {
      "provenance": [],
      "authorship_tag": "ABX9TyNjtxTdwBJ+Ep5Wb/q8jJqc",
      "include_colab_link": true
    },
    "kernelspec": {
      "name": "python3",
      "display_name": "Python 3"
    },
    "language_info": {
      "name": "python"
    }
  },
  "cells": [
    {
      "cell_type": "markdown",
      "metadata": {
        "id": "view-in-github",
        "colab_type": "text"
      },
      "source": [
        "<a href=\"https://colab.research.google.com/github/Brunoandu/Aula-Programacao/blob/main/Untitled12.ipynb\" target=\"_parent\"><img src=\"https://colab.research.google.com/assets/colab-badge.svg\" alt=\"Open In Colab\"/></a>"
      ]
    },
    {
      "cell_type": "code",
      "source": [],
      "metadata": {
        "id": "4xZ1aGhSEUP1"
      },
      "execution_count": null,
      "outputs": []
    },
    {
      "cell_type": "code",
      "execution_count": 1,
      "metadata": {
        "colab": {
          "base_uri": "https://localhost:8080/",
          "height": 53
        },
        "id": "Rao05c3kxqI2",
        "outputId": "67b9e496-0556-45e3-8928-6fb2821c3592"
      },
      "outputs": [
        {
          "name": "stdout",
          "output_type": "stream",
          "text": [
            "digite um numero10\n"
          ]
        },
        {
          "output_type": "execute_result",
          "data": {
            "text/plain": [
              "'10'"
            ],
            "application/vnd.google.colaboratory.intrinsic+json": {
              "type": "string"
            }
          },
          "metadata": {},
          "execution_count": 1
        }
      ],
      "source": [
        "#Descubra o antecessor e sucessor do numero\n",
        "input('digite um numero')"
      ]
    },
    {
      "cell_type": "code",
      "source": [
        "def antecessor(a):\n",
        "    ant = a - 1\n",
        "    print(ant)\n",
        "\n",
        "a = int(input())\n",
        "print('qual é o seu antecessor? ')\n",
        "antecessor(a)\n"
      ],
      "metadata": {
        "colab": {
          "base_uri": "https://localhost:8080/"
        },
        "id": "OSILy1bPx_gu",
        "outputId": "1cb4febe-dd29-414c-f787-76191b61de44"
      },
      "execution_count": 50,
      "outputs": [
        {
          "output_type": "stream",
          "name": "stdout",
          "text": [
            "10\n",
            "qual é o seu antecessor? \n",
            "9\n"
          ]
        }
      ]
    },
    {
      "cell_type": "code",
      "source": [
        "def sucessor(a):\n",
        "    ant = a + 1\n",
        "    print(ant)\n",
        "\n",
        "a = int(input())\n",
        "print('Qual é o seu sucessor? ')\n",
        "sucessor(a)"
      ],
      "metadata": {
        "colab": {
          "base_uri": "https://localhost:8080/"
        },
        "id": "e8F7KwVbyewt",
        "outputId": "3125e957-8f1c-48d9-8bd0-aef84fdf5eaa"
      },
      "execution_count": 47,
      "outputs": [
        {
          "output_type": "stream",
          "name": "stdout",
          "text": [
            "10\n",
            "Qual é o seu sucessor? \n",
            "11\n"
          ]
        }
      ]
    },
    {
      "cell_type": "code",
      "source": [
        "nota1 = float(input('Digite a nota,fi da pt! '))\n",
        "nota2 = float(input('Digite a segunda nota! '))\n",
        "nota3 = float(input('Digite a terceira nota! '))\n",
        "media = (nota1 + nota2 + nota3)/3\n",
        "print(media)\n",
        "print('o aluno está reprovado')"
      ],
      "metadata": {
        "colab": {
          "base_uri": "https://localhost:8080/"
        },
        "id": "hejKJ0FzyxWr",
        "outputId": "921383e2-9095-42e7-a4dc-26009bc296ea"
      },
      "execution_count": 36,
      "outputs": [
        {
          "output_type": "stream",
          "name": "stdout",
          "text": [
            "Digite a nota,fi da pt! 10\n",
            "Digite a segunda nota! 2\n",
            "Digite a terceira nota! 5\n",
            "5.666666666666667\n",
            "o aluno está reprovado\n"
          ]
        }
      ]
    },
    {
      "cell_type": "code",
      "source": [
        "input(print('digite seu nome'))"
      ],
      "metadata": {
        "colab": {
          "base_uri": "https://localhost:8080/",
          "height": 70
        },
        "id": "SoZekEqh1m-T",
        "outputId": "0d14dad3-ee1c-4aae-f21f-d073682d901f"
      },
      "execution_count": 49,
      "outputs": [
        {
          "name": "stdout",
          "output_type": "stream",
          "text": [
            "digite seu nome\n",
            "NoneBruno\n"
          ]
        },
        {
          "output_type": "execute_result",
          "data": {
            "text/plain": [
              "'Bruno'"
            ],
            "application/vnd.google.colaboratory.intrinsic+json": {
              "type": "string"
            }
          },
          "metadata": {},
          "execution_count": 49
        }
      ]
    }
  ]
}