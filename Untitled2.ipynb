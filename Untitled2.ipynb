{
  "nbformat": 4,
  "nbformat_minor": 0,
  "metadata": {
    "colab": {
      "provenance": [],
      "authorship_tag": "ABX9TyMdGNDImkMD3Nql/aOf8Va2",
      "include_colab_link": true
    },
    "kernelspec": {
      "name": "python3",
      "display_name": "Python 3"
    },
    "language_info": {
      "name": "python"
    }
  },
  "cells": [
    {
      "cell_type": "markdown",
      "metadata": {
        "id": "view-in-github",
        "colab_type": "text"
      },
      "source": [
        "<a href=\"https://colab.research.google.com/github/Brunoandu/Aula-Programacao/blob/main/Untitled2.ipynb\" target=\"_parent\"><img src=\"https://colab.research.google.com/assets/colab-badge.svg\" alt=\"Open In Colab\"/></a>"
      ]
    },
    {
      "cell_type": "code",
      "execution_count": null,
      "metadata": {
        "colab": {
          "base_uri": "https://localhost:8080/"
        },
        "id": "TTngcelR_A63",
        "outputId": "2b3e6624-f9ef-4ef4-fe5f-636e9b3683e3"
      },
      "outputs": [
        {
          "output_type": "stream",
          "name": "stdout",
          "text": [
            "2023\n"
          ]
        }
      ],
      "source": [
        "ano = 2023 \n",
        "print(ano)"
      ]
    },
    {
      "cell_type": "code",
      "source": [
        "fruta = 'Banana'\n",
        "print(fruta)"
      ],
      "metadata": {
        "colab": {
          "base_uri": "https://localhost:8080/"
        },
        "id": "B5NBOx9pDQNm",
        "outputId": "06148a69-ac09-4094-f3bc-9133932c7f4b"
      },
      "execution_count": null,
      "outputs": [
        {
          "output_type": "stream",
          "name": "stdout",
          "text": [
            "Banana\n"
          ]
        }
      ]
    },
    {
      "cell_type": "code",
      "source": [
        "#listadefrutas\n",
        "frutas = ['morango', 'laranja', 'maracuja', 'limao', 'uva']"
      ],
      "metadata": {
        "id": "j_BEiOUuEZBE"
      },
      "execution_count": null,
      "outputs": []
    },
    {
      "cell_type": "code",
      "source": [
        "for i in frutas:\n",
        "  print(i)"
      ],
      "metadata": {
        "colab": {
          "base_uri": "https://localhost:8080/"
        },
        "id": "NyBEb6h-E4lq",
        "outputId": "9491bf09-36dc-4a4d-8fba-a182f228464a"
      },
      "execution_count": null,
      "outputs": [
        {
          "output_type": "stream",
          "name": "stdout",
          "text": [
            "morango\n",
            "laranja\n",
            "maracuja\n",
            "limao\n",
            "uva\n"
          ]
        }
      ]
    },
    {
      "cell_type": "code",
      "source": [
        "for i in frutas:\n",
        "  if(i == 'morango'):\n",
        "    print(i)"
      ],
      "metadata": {
        "colab": {
          "base_uri": "https://localhost:8080/"
        },
        "id": "9q8Z-3e0GS-m",
        "outputId": "91ef9dbc-0443-49eb-8239-d87daa74260e"
      },
      "execution_count": null,
      "outputs": [
        {
          "output_type": "stream",
          "name": "stdout",
          "text": [
            "morango\n"
          ]
        }
      ]
    },
    {
      "cell_type": "code",
      "source": [
        "fruta = input('insira uma fruta: ')\n",
        "#inserir valores da lista\n",
        "frutas.append(fruta)\n",
        "frutas"
      ],
      "metadata": {
        "colab": {
          "base_uri": "https://localhost:8080/"
        },
        "id": "I0Kj75STHj5G",
        "outputId": "058873e6-62a7-4dd4-ed85-f96503732bb1"
      },
      "execution_count": null,
      "outputs": [
        {
          "name": "stdout",
          "output_type": "stream",
          "text": [
            "insira uma fruta: maracuja\n"
          ]
        },
        {
          "output_type": "execute_result",
          "data": {
            "text/plain": [
              "['morango', 'laranja', 'maracuja', 'limao', 'uva', 'morango', 'maracuja']"
            ]
          },
          "metadata": {},
          "execution_count": 10
        }
      ]
    },
    {
      "cell_type": "code",
      "source": [
        "#\n",
        "notas = [8,9,3,4,7,10,3,6,7]\n"
      ],
      "metadata": {
        "id": "Dsd9i1VAIXc4"
      },
      "execution_count": null,
      "outputs": []
    },
    {
      "cell_type": "code",
      "source": [
        "for nota in notas:\n",
        "  if(nota >= 7):\n",
        "    print(nota)"
      ],
      "metadata": {
        "colab": {
          "base_uri": "https://localhost:8080/"
        },
        "id": "DVBl61VaIlJQ",
        "outputId": "88389fa3-5364-4ecb-a834-691d7912289c"
      },
      "execution_count": null,
      "outputs": [
        {
          "output_type": "stream",
          "name": "stdout",
          "text": [
            "8\n",
            "9\n",
            "7\n",
            "10\n",
            "7\n"
          ]
        }
      ]
    },
    {
      "cell_type": "code",
      "source": [
        "#Exiba a quantidade de reprovados e aprovados\n",
        "aprovados = 0\n",
        "reprovados = 0\n",
        "for nota in notas:\n",
        "  if (nota>=7):\n",
        "    aprovados += 1\n",
        "  else:\n",
        "    reprovados += 1\n",
        "\n",
        "print('Aprovados', aprovados)\n",
        "print('Reprovados', reprovados)"
      ],
      "metadata": {
        "colab": {
          "base_uri": "https://localhost:8080/"
        },
        "id": "DXglr2aNKkd5",
        "outputId": "7f925fd4-d99c-45d1-d766-f563076b96c3"
      },
      "execution_count": null,
      "outputs": [
        {
          "output_type": "stream",
          "name": "stdout",
          "text": [
            "Aprovados 5\n",
            "Reprovados 4\n"
          ]
        }
      ]
    },
    {
      "cell_type": "code",
      "source": [
        "#criar programa que lista números de 1 à 10\n",
        "cont = 1\n",
        "numeros = []\n",
        "\n",
        "while (cont <= 10):\n",
        "  numeros.append(cont)\n",
        "  cont += 1\n",
        "\n",
        "numeros"
      ],
      "metadata": {
        "colab": {
          "base_uri": "https://localhost:8080/"
        },
        "id": "WAppgEGhQ6Lz",
        "outputId": "5426ed04-8374-4d47-cc02-7b6c29c0a50f"
      },
      "execution_count": 19,
      "outputs": [
        {
          "output_type": "execute_result",
          "data": {
            "text/plain": [
              "[1, 2, 3, 4, 5, 6, 7, 8, 9, 10]"
            ]
          },
          "metadata": {},
          "execution_count": 19
        }
      ]
    },
    {
      "cell_type": "code",
      "source": [
        "#modifique o codigo anterior para solicitar um tamanho de lista\n",
        "#x e com o laço while,do tamanho que desejar\n",
        "cont = 1\n",
        "numeros = []\n",
        "tamanho = int(input('Digite o tamanho da lista '))\n",
        "\n",
        "\n",
        "while(cont <= tamanho):\n",
        "\n",
        "  cont+=1\n",
        "numeros"
      ],
      "metadata": {
        "colab": {
          "base_uri": "https://localhost:8080/"
        },
        "id": "gJ7938wKSRka",
        "outputId": "6db3d21f-1a64-49fc-b817-e078b5d035b2"
      },
      "execution_count": 28,
      "outputs": [
        {
          "name": "stdout",
          "output_type": "stream",
          "text": [
            "Digite o tamanho da lista 8\n"
          ]
        },
        {
          "output_type": "execute_result",
          "data": {
            "text/plain": [
              "[]"
            ]
          },
          "metadata": {},
          "execution_count": 28
        }
      ]
    },
    {
      "cell_type": "code",
      "source": [
        "#inserir nomes de cidades\n",
        "#o laço encerra quando digitar o 0\n",
        "cidades = []\n",
        "cidade = input('Digite uma cidade: ')\n",
        "\n",
        "while(cidade != '0'):\n",
        "\n",
        " cidades.append(cidade)\n",
        " cidade = input('Digite uma cidade: ')\n",
        " \n",
        "cidades"
      ],
      "metadata": {
        "colab": {
          "base_uri": "https://localhost:8080/"
        },
        "id": "EPb4htZsVcVO",
        "outputId": "a67180fe-fcd5-4493-ba4d-4d851042a4f0"
      },
      "execution_count": 30,
      "outputs": [
        {
          "name": "stdout",
          "output_type": "stream",
          "text": [
            "Digite uma cidade: Blumenau\n",
            "Digite uma cidade: Joao pessoa\n",
            "Digite uma cidade: Santa Rita\n",
            "Digite uma cidade: Nova trento\n",
            "Digite uma cidade: ilhota\n",
            "Digite uma cidade: Gaspar\n",
            "Digite uma cidade: Balneario\n",
            "Digite uma cidade: Joinville\n",
            "Digite uma cidade: Bayeux\n",
            "Digite uma cidade: 0\n"
          ]
        },
        {
          "output_type": "execute_result",
          "data": {
            "text/plain": [
              "['Blumenau',\n",
              " 'Joao pessoa',\n",
              " 'Santa Rita',\n",
              " 'Nova trento',\n",
              " 'ilhota',\n",
              " 'Gaspar',\n",
              " 'Balneario',\n",
              " 'Joinville',\n",
              " 'Bayeux']"
            ]
          },
          "metadata": {},
          "execution_count": 30
        }
      ]
    },
    {
      "cell_type": "code",
      "source": [
        "#par ou impar\n",
        "num = int(input('Digite um numero: '))\n",
        "\n",
        "while(num >= 0):\n",
        "  if(num % 2 == 0):\n",
        "    print('É par')\n",
        "    num = int(input('Digite um numero: '))\n",
        "  else:\n",
        "    print('É impar')\n",
        "    num = int(input('Digite um numero: '))\n",
        "    \n",
        "print('Acabouuu')\n"
      ],
      "metadata": {
        "colab": {
          "base_uri": "https://localhost:8080/"
        },
        "id": "3eqZB8owZC-c",
        "outputId": "c83107ce-53a3-4041-8057-908ec330326b"
      },
      "execution_count": 31,
      "outputs": [
        {
          "output_type": "stream",
          "name": "stdout",
          "text": [
            "Digite um numero: 23\n",
            "É impar\n",
            "Digite um numero: 16\n",
            "É par\n",
            "Digite um numero: 7\n",
            "É impar\n",
            "Digite um numero: 6\n",
            "É par\n",
            "Digite um numero: 10\n",
            "É par\n",
            "Digite um numero: 11\n",
            "É impar\n",
            "Digite um numero: 20\n",
            "É par\n",
            "Digite um numero: 0\n",
            "É par\n",
            "Digite um numero: -1\n",
            "Acabouuu\n"
          ]
        }
      ]
    }
  ]
}