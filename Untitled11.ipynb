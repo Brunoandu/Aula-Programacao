{
  "nbformat": 4,
  "nbformat_minor": 0,
  "metadata": {
    "colab": {
      "provenance": [],
      "authorship_tag": "ABX9TyP6gUe8Xij6IA0HByq6MWQY",
      "include_colab_link": true
    },
    "kernelspec": {
      "name": "python3",
      "display_name": "Python 3"
    },
    "language_info": {
      "name": "python"
    }
  },
  "cells": [
    {
      "cell_type": "markdown",
      "metadata": {
        "id": "view-in-github",
        "colab_type": "text"
      },
      "source": [
        "<a href=\"https://colab.research.google.com/github/Brunoandu/Aula-Programacao/blob/main/Untitled11.ipynb\" target=\"_parent\"><img src=\"https://colab.research.google.com/assets/colab-badge.svg\" alt=\"Open In Colab\"/></a>"
      ]
    },
    {
      "cell_type": "code",
      "execution_count": 80,
      "metadata": {
        "colab": {
          "base_uri": "https://localhost:8080/"
        },
        "id": "Qind1NyBrpdt",
        "outputId": "b4290c0f-ea4d-49cb-de8d-64a06d5924b4"
      },
      "outputs": [
        {
          "name": "stdout",
          "output_type": "stream",
          "text": [
            "digite algo20\n"
          ]
        }
      ],
      "source": [
        "#Execute um programa que pergunte um numero e descubra sua classe \n",
        "\n",
        "\n",
        "a = input('digite algo')"
      ]
    },
    {
      "cell_type": "code",
      "source": [
        "print('O tipo primitivo desse valor é ',type(a))"
      ],
      "metadata": {
        "colab": {
          "base_uri": "https://localhost:8080/"
        },
        "id": "dKGVn_Pcr55l",
        "outputId": "ea6f8b33-ff01-4d39-f4c2-323d58a43355"
      },
      "execution_count": 81,
      "outputs": [
        {
          "output_type": "stream",
          "name": "stdout",
          "text": [
            "O tipo primitivo desse valor é  <class 'str'>\n"
          ]
        }
      ]
    },
    {
      "cell_type": "code",
      "source": [
        "print('Só tem espaços? ', a.isspace())"
      ],
      "metadata": {
        "colab": {
          "base_uri": "https://localhost:8080/"
        },
        "id": "3tUdGsC_tyMc",
        "outputId": "b67d2c84-6650-4159-cba4-cc288ad4a977"
      },
      "execution_count": 82,
      "outputs": [
        {
          "output_type": "stream",
          "name": "stdout",
          "text": [
            "Só tem espaços?  False\n"
          ]
        }
      ]
    },
    {
      "cell_type": "code",
      "source": [
        "print('É um numero? ', a.isnumeric())"
      ],
      "metadata": {
        "colab": {
          "base_uri": "https://localhost:8080/"
        },
        "id": "ILz1THlUubAp",
        "outputId": "24bbdc1d-e98d-4c43-d538-cf54325b60bb"
      },
      "execution_count": 83,
      "outputs": [
        {
          "output_type": "stream",
          "name": "stdout",
          "text": [
            "É um numero?  True\n"
          ]
        }
      ]
    },
    {
      "cell_type": "code",
      "source": [
        "print('É uma letra do alfabeto? ', a.isalpha())"
      ],
      "metadata": {
        "colab": {
          "base_uri": "https://localhost:8080/"
        },
        "id": "Izg1fCY2vewn",
        "outputId": "7730c9f0-88ef-48c6-d948-b22c16ff5622"
      },
      "execution_count": 84,
      "outputs": [
        {
          "output_type": "stream",
          "name": "stdout",
          "text": [
            "É uma letra do alfabeto?  False\n"
          ]
        }
      ]
    },
    {
      "cell_type": "code",
      "source": [
        "print('Está capitalizada? ', a.istitle())"
      ],
      "metadata": {
        "colab": {
          "base_uri": "https://localhost:8080/"
        },
        "id": "v92gtWimwpHw",
        "outputId": "9a2a4264-f11c-44c4-d03b-dd605c6ba199"
      },
      "execution_count": 85,
      "outputs": [
        {
          "output_type": "stream",
          "name": "stdout",
          "text": [
            "Está capitalizada?  False\n"
          ]
        }
      ]
    }
  ]
}