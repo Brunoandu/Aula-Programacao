{
  "nbformat": 4,
  "nbformat_minor": 0,
  "metadata": {
    "colab": {
      "provenance": [],
      "authorship_tag": "ABX9TyP6gUe8Xij6IA0HByq6MWQY",
      "include_colab_link": true
    },
    "kernelspec": {
      "name": "python3",
      "display_name": "Python 3"
    },
    "language_info": {
      "name": "python"
    }
  },
  "cells": [
    {
      "cell_type": "markdown",
      "metadata": {
        "id": "view-in-github",
        "colab_type": "text"
      },
      "source": [
        "<a href=\"https://colab.research.google.com/github/Brunoandu/Aula-Programacao/blob/main/Untitled11.ipynb\" target=\"_parent\"><img src=\"https://colab.research.google.com/assets/colab-badge.svg\" alt=\"Open In Colab\"/></a>"
      ]
    },
    {
      "cell_type": "code",
      "execution_count": 74,
      "metadata": {
        "colab": {
          "base_uri": "https://localhost:8080/"
        },
        "id": "Qind1NyBrpdt",
        "outputId": "bd574b94-3f10-4d97-eb0e-9a353fac1b58"
      },
      "outputs": [
        {
          "name": "stdout",
          "output_type": "stream",
          "text": [
            "digite algoFlamingo\n"
          ]
        }
      ],
      "source": [
        "#Execute um programa que pergunte um numero e descubra sua classe \n",
        "\n",
        "\n",
        "a = input('digite algo')"
      ]
    },
    {
      "cell_type": "code",
      "source": [
        "print('O tipo primitivo desse valor é ',type(a))"
      ],
      "metadata": {
        "colab": {
          "base_uri": "https://localhost:8080/"
        },
        "id": "dKGVn_Pcr55l",
        "outputId": "fe963967-ef56-4273-d866-19be661653d1"
      },
      "execution_count": 75,
      "outputs": [
        {
          "output_type": "stream",
          "name": "stdout",
          "text": [
            "O tipo primitivo desse valor é  <class 'str'>\n"
          ]
        }
      ]
    },
    {
      "cell_type": "code",
      "source": [
        "print('Só tem espaços? ', a.isspace())"
      ],
      "metadata": {
        "colab": {
          "base_uri": "https://localhost:8080/"
        },
        "id": "3tUdGsC_tyMc",
        "outputId": "52116201-369a-47b3-96f0-e5ac511c2c30"
      },
      "execution_count": 76,
      "outputs": [
        {
          "output_type": "stream",
          "name": "stdout",
          "text": [
            "Só tem espaços?  False\n"
          ]
        }
      ]
    },
    {
      "cell_type": "code",
      "source": [
        "print('É um numero? ', a.isnumeric())"
      ],
      "metadata": {
        "colab": {
          "base_uri": "https://localhost:8080/"
        },
        "id": "ILz1THlUubAp",
        "outputId": "297a92be-832d-4298-88ed-89c7e2d11eb9"
      },
      "execution_count": 77,
      "outputs": [
        {
          "output_type": "stream",
          "name": "stdout",
          "text": [
            "É um numero?  False\n"
          ]
        }
      ]
    },
    {
      "cell_type": "code",
      "source": [
        "print('É uma letra do alfabeto? ', a.isalpha())"
      ],
      "metadata": {
        "colab": {
          "base_uri": "https://localhost:8080/"
        },
        "id": "Izg1fCY2vewn",
        "outputId": "3fc1577f-a245-4130-b19c-f0214eeab12b"
      },
      "execution_count": 78,
      "outputs": [
        {
          "output_type": "stream",
          "name": "stdout",
          "text": [
            "É uma letra do alfabeto?  True\n"
          ]
        }
      ]
    },
    {
      "cell_type": "code",
      "source": [
        "print('Está capitalizada? ', a.istitle())"
      ],
      "metadata": {
        "colab": {
          "base_uri": "https://localhost:8080/"
        },
        "id": "v92gtWimwpHw",
        "outputId": "9cb5c755-ae00-43c2-b597-6f8cc6206ead"
      },
      "execution_count": 79,
      "outputs": [
        {
          "output_type": "stream",
          "name": "stdout",
          "text": [
            "Está capitalizada?  True\n"
          ]
        }
      ]
    }
  ]
}