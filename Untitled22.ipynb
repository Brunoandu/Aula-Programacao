{
  "nbformat": 4,
  "nbformat_minor": 0,
  "metadata": {
    "colab": {
      "provenance": [],
      "authorship_tag": "ABX9TyOSHzeMjziae0ov8PcUxlz/",
      "include_colab_link": true
    },
    "kernelspec": {
      "name": "python3",
      "display_name": "Python 3"
    },
    "language_info": {
      "name": "python"
    }
  },
  "cells": [
    {
      "cell_type": "markdown",
      "metadata": {
        "id": "view-in-github",
        "colab_type": "text"
      },
      "source": [
        "<a href=\"https://colab.research.google.com/github/Brunoandu/Aula-Programacao/blob/main/Untitled22.ipynb\" target=\"_parent\"><img src=\"https://colab.research.google.com/assets/colab-badge.svg\" alt=\"Open In Colab\"/></a>"
      ]
    },
    {
      "cell_type": "code",
      "execution_count": 4,
      "metadata": {
        "id": "GNsFkx9jhJYQ"
      },
      "outputs": [],
      "source": [
        "class Pessoa:\n",
        "  def __init__(self, name):\n",
        "    self.name = name"
      ]
    },
    {
      "cell_type": "code",
      "source": [
        "aluno = Pessoa('Gabriell')\n",
        "aluno.name"
      ],
      "metadata": {
        "colab": {
          "base_uri": "https://localhost:8080/",
          "height": 35
        },
        "id": "jgY_sxC7hvre",
        "outputId": "7ad32010-3192-4a4e-f745-b2381bfd2a00"
      },
      "execution_count": 7,
      "outputs": [
        {
          "output_type": "execute_result",
          "data": {
            "text/plain": [
              "'Gabriell'"
            ],
            "application/vnd.google.colaboratory.intrinsic+json": {
              "type": "string"
            }
          },
          "metadata": {},
          "execution_count": 7
        }
      ]
    },
    {
      "cell_type": "code",
      "source": [
        "#Criar uma classe de funcionarios que tem como atributos nome,cargo e matrícula\n",
        "class Funcionario:\n",
        "  def __init__(self, name, job, registration):\n",
        "    self.name = name\n",
        "    self.job = job\n",
        "    self.registration = registration"
      ],
      "metadata": {
        "id": "B3fnbpOvipl-"
      },
      "execution_count": 15,
      "outputs": []
    },
    {
      "cell_type": "code",
      "source": [
        "vend = Funcionario('Eduarda', 'Caixa', 25845)\n",
        "print(f'{vend.name},cargo: {vend.job}, mat: {vend.registration}')"
      ],
      "metadata": {
        "colab": {
          "base_uri": "https://localhost:8080/"
        },
        "id": "iCnCGfnkjCdW",
        "outputId": "f7b0970d-0c18-4b53-bf40-275ecbcd49f6"
      },
      "execution_count": 19,
      "outputs": [
        {
          "output_type": "stream",
          "name": "stdout",
          "text": [
            "Eduarda,cargo: Caixa, mat: 25845\n"
          ]
        }
      ]
    },
    {
      "cell_type": "code",
      "source": [
        "#criar uma classe cliente contendo os atributos\n",
        "#Nome, idade , sexo\n",
        "class Cliente:\n",
        "  def __init__(self, name, age, sex):\n",
        "    self.name = name\n",
        "    self.age = age\n",
        "    self.sex = sex\n"
      ],
      "metadata": {
        "id": "XPEp4wWhl4wh"
      },
      "execution_count": 20,
      "outputs": []
    },
    {
      "cell_type": "code",
      "source": [
        "vend = Cliente('Hellen', 19 , 'Feminino')\n",
        "print(f'{vend.name}, age: {vend.age}, sex: {vend.sex}')"
      ],
      "metadata": {
        "colab": {
          "base_uri": "https://localhost:8080/"
        },
        "id": "8RbUPp19nHMX",
        "outputId": "0c2a83d1-5d4d-43a6-8ec7-8727df48941c"
      },
      "execution_count": 28,
      "outputs": [
        {
          "output_type": "stream",
          "name": "stdout",
          "text": [
            "Hellen, age: 19, sex: Feminino\n"
          ]
        }
      ]
    },
    {
      "cell_type": "code",
      "source": [
        "class Conta:\n",
        "  def __init__(self, titular, saldo):\n",
        "    self.titular = titular\n",
        "    self.saldo = saldo\n",
        "  def exibeSaldo(self):\n",
        "    print(f'{self.titular} saldo de R${self.saldo},00')\n"
      ],
      "metadata": {
        "id": "8I8gxZCno9GT"
      },
      "execution_count": 44,
      "outputs": []
    },
    {
      "cell_type": "code",
      "source": [
        "co = Conta('Pablo', 126678)\n",
        "co.exibeSaldo()"
      ],
      "metadata": {
        "colab": {
          "base_uri": "https://localhost:8080/"
        },
        "id": "JxlALu_gpIHZ",
        "outputId": "72baf8d2-d82e-4b29-e1f0-7d8585da0604"
      },
      "execution_count": 45,
      "outputs": [
        {
          "output_type": "stream",
          "name": "stdout",
          "text": [
            "Pablo saldo de R$126678,00\n"
          ]
        }
      ]
    },
    {
      "cell_type": "code",
      "source": [
        "class Animal:\n",
        "  def __init__(self, name):\n",
        "    self.name = name\n",
        "  def emitirSom(self):\n",
        "    pass\n",
        "\n",
        "class Ovelha(Animal):\n",
        "  def emitirSom(self):\n",
        "    print('Beeeeeeeeeeee')"
      ],
      "metadata": {
        "id": "yS8tA4yftVTT"
      },
      "execution_count": 49,
      "outputs": []
    },
    {
      "cell_type": "code",
      "source": [
        "class Animal:\n",
        "  def __init__(self, name):\n",
        "    self.name = name\n",
        "    def emitirSom(self):\n",
        "      pass\n",
        "\n",
        "class Lobo(Animal):\n",
        "  def emitirSom(self):\n",
        "    print('auuuuuuuuuuuuuuuuuuuuuu')"
      ],
      "metadata": {
        "id": "qO8-Op5cuhot"
      },
      "execution_count": 48,
      "outputs": []
    },
    {
      "cell_type": "code",
      "source": [
        "ovelhinha = Ovelha('Ana')\n",
        "lobinho = Lobo('Scott')\n",
        "\n",
        "ovelhinha.emitirSom()\n",
        "lobinho.emitirSom()"
      ],
      "metadata": {
        "colab": {
          "base_uri": "https://localhost:8080/"
        },
        "id": "chlzBGlju7Do",
        "outputId": "24506261-b566-46c3-87c2-02f4873351a4"
      },
      "execution_count": 51,
      "outputs": [
        {
          "output_type": "stream",
          "name": "stdout",
          "text": [
            "Beeeeeeeeeeee\n",
            "auuuuuuuuuuuuuuuuuuuuuu\n"
          ]
        }
      ]
    }
  ]
}