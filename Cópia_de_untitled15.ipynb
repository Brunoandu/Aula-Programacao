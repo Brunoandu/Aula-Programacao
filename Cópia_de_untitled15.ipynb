{
  "nbformat": 4,
  "nbformat_minor": 0,
  "metadata": {
    "colab": {
      "provenance": [],
      "authorship_tag": "ABX9TyMFTrm7+M1BRWM20HZ96VbW",
      "include_colab_link": true
    },
    "kernelspec": {
      "name": "python3",
      "display_name": "Python 3"
    },
    "language_info": {
      "name": "python"
    }
  },
  "cells": [
    {
      "cell_type": "markdown",
      "metadata": {
        "id": "view-in-github",
        "colab_type": "text"
      },
      "source": [
        "<a href=\"https://colab.research.google.com/github/Brunoandu/Aula-Programacao/blob/main/C%C3%B3pia_de_untitled15.ipynb\" target=\"_parent\"><img src=\"https://colab.research.google.com/assets/colab-badge.svg\" alt=\"Open In Colab\"/></a>"
      ]
    },
    {
      "cell_type": "code",
      "execution_count": null,
      "metadata": {
        "id": "aMrNRX83vkEt"
      },
      "outputs": [],
      "source": [
        "#lista com elementos\n",
        "lista_com_elementos = ['eu', 'me']\n"
      ]
    },
    {
      "cell_type": "code",
      "source": [
        "#pegar os nums de uma lista\n",
        "#criar outra lista com o dobro\n",
        "nums = [6, 4, 2 , 16]"
      ],
      "metadata": {
        "id": "I-w_1kk9wW8d"
      },
      "execution_count": null,
      "outputs": []
    },
    {
      "cell_type": "code",
      "source": [
        "listah = [2,4,5,6]"
      ],
      "metadata": {
        "id": "VtiJ-JQnwpYK"
      },
      "execution_count": null,
      "outputs": []
    },
    {
      "cell_type": "code",
      "source": [
        "listah = list(map(lambda x: x**2, listah))\n",
        "listah"
      ],
      "metadata": {
        "colab": {
          "base_uri": "https://localhost:8080/"
        },
        "id": "PLuAZtpHww0U",
        "outputId": "991b48fb-7937-4ca3-9d2a-6c269531a52d"
      },
      "execution_count": null,
      "outputs": [
        {
          "output_type": "execute_result",
          "data": {
            "text/plain": [
              "[16, 256, 625, 1296]"
            ]
          },
          "metadata": {},
          "execution_count": 16
        }
      ]
    },
    {
      "cell_type": "code",
      "source": [
        "produtos = ['nutella','carne','pao','cerveja','coca']"
      ],
      "metadata": {
        "id": "IurLDuQJxJdq"
      },
      "execution_count": null,
      "outputs": []
    },
    {
      "cell_type": "code",
      "source": [
        "listah = list(map(lambda x: len(x), produtos))\n",
        "listah"
      ],
      "metadata": {
        "colab": {
          "base_uri": "https://localhost:8080/"
        },
        "id": "F4B98UiOxfFL",
        "outputId": "f75b99ab-4a86-4d98-807b-79dcf69bda28"
      },
      "execution_count": null,
      "outputs": [
        {
          "output_type": "execute_result",
          "data": {
            "text/plain": [
              "[7, 5, 3, 7, 4]"
            ]
          },
          "metadata": {},
          "execution_count": 18
        }
      ]
    },
    {
      "cell_type": "code",
      "source": [
        "precos = [13.99, 9.99, 4.44]\n"
      ],
      "metadata": {
        "id": "F-6JHTEoxzoR"
      },
      "execution_count": null,
      "outputs": []
    },
    {
      "cell_type": "code",
      "source": [
        "listah = list(map(lambda x: x+2, precos))\n",
        "listah"
      ],
      "metadata": {
        "colab": {
          "base_uri": "https://localhost:8080/"
        },
        "id": "HaARUjSXyIdS",
        "outputId": "e4c4b2b4-a3d4-4bc3-de43-b2e8f069943a"
      },
      "execution_count": null,
      "outputs": [
        {
          "output_type": "execute_result",
          "data": {
            "text/plain": [
              "[15.99, 11.99, 6.44]"
            ]
          },
          "metadata": {},
          "execution_count": 20
        }
      ]
    }
  ]
}