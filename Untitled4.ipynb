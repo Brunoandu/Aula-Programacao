{
  "nbformat": 4,
  "nbformat_minor": 0,
  "metadata": {
    "colab": {
      "provenance": [],
      "authorship_tag": "ABX9TyOozaUil5uGrpW5hT0BWHMc",
      "include_colab_link": true
    },
    "kernelspec": {
      "name": "python3",
      "display_name": "Python 3"
    },
    "language_info": {
      "name": "python"
    }
  },
  "cells": [
    {
      "cell_type": "markdown",
      "metadata": {
        "id": "view-in-github",
        "colab_type": "text"
      },
      "source": [
        "<a href=\"https://colab.research.google.com/github/Brunoandu/Aula-Programacao/blob/main/Untitled4.ipynb\" target=\"_parent\"><img src=\"https://colab.research.google.com/assets/colab-badge.svg\" alt=\"Open In Colab\"/></a>"
      ]
    },
    {
      "cell_type": "code",
      "execution_count": 5,
      "metadata": {
        "colab": {
          "base_uri": "https://localhost:8080/"
        },
        "id": "UgCUjWqVGFt_",
        "outputId": "cf3dafc7-7ee7-4b11-c343-9f9e545dbff1"
      },
      "outputs": [
        {
          "output_type": "stream",
          "name": "stdout",
          "text": [
            "digite um numero maior que 1: 6\n",
            "0\n",
            "1\n",
            "2\n",
            "3\n",
            "4\n",
            "5\n",
            "6\n"
          ]
        }
      ],
      "source": [
        "#Pede ao usuário para inserir numero inteiro maior que 1\n",
        "num = int(input('digite um numero maior que 1: '))\n",
        "cont = 0\n",
        "while (cont<= num):\n",
        "  print(cont)\n",
        "  cont+=1"
      ]
    },
    {
      "cell_type": "code",
      "source": [
        "#exiba a soma dos numeros de 1 a 30\n",
        "num = int(input('Digite numeros de 1 a 30: '))\n",
        "cont = 0\n",
        "listNumerica = []\n",
        "while(cont <= num ):\n",
        "   listNumerica.append(cont)\n",
        "   cont +=1\n",
        "print(sum(listNumerica))\n"
      ],
      "metadata": {
        "colab": {
          "base_uri": "https://localhost:8080/"
        },
        "id": "2znirauZK311",
        "outputId": "42e5b0da-3ca7-4c23-9adb-3807c0f1fe9f"
      },
      "execution_count": 7,
      "outputs": [
        {
          "output_type": "stream",
          "name": "stdout",
          "text": [
            "Digite numeros de 1 a 30: 23\n",
            "276\n"
          ]
        }
      ]
    },
    {
      "cell_type": "code",
      "source": [
        "#pede a senha ao usuário e 5 chances para o usário\n",
        "#inserir a senha correta\n",
        "senha = 'brunildu'\n",
        "userpass = input('Digite sua senha ')\n",
        "cont = 0\n",
        "while(cont < 3):\n",
        "  if(userpass == senha):\n",
        "    break\n",
        "  else:\n",
        "    print('Senha errada')\n",
        "    userpass = input('Tente novamente')\n",
        "\n",
        "if(cont == 3):\n",
        " print('sua senha foi bloqueada, otário!')\n",
        "else:\n",
        "  print('seja bem-vindo ao meu sistema')"
      ],
      "metadata": {
        "colab": {
          "base_uri": "https://localhost:8080/"
        },
        "id": "0LrSukbGOHBw",
        "outputId": "272f4b67-7028-4622-9a97-9db17803a084"
      },
      "execution_count": 4,
      "outputs": [
        {
          "output_type": "stream",
          "name": "stdout",
          "text": [
            "Digite sua senha duda\n",
            "Senha errada\n",
            "Tente novamentelucicleide\n",
            "Senha errada\n",
            "Tente novamentebrunildu\n",
            "seja bem-vindo ao meu sistema\n"
          ]
        }
      ]
    },
    {
      "cell_type": "code",
      "source": [
        "#Testar a entrada do usuário\n",
        "#isdigit()verificar se o que foi digitado é um número ou não\n",
        "num = input('digite um numero')\n",
        "num.isdigit()"
      ],
      "metadata": {
        "colab": {
          "base_uri": "https://localhost:8080/"
        },
        "id": "zsG_9UWJYc-2",
        "outputId": "b6fbde58-6bd9-42b1-ec9a-539eeae9e197"
      },
      "execution_count": 10,
      "outputs": [
        {
          "name": "stdout",
          "output_type": "stream",
          "text": [
            "digite um numero23\n"
          ]
        },
        {
          "output_type": "execute_result",
          "data": {
            "text/plain": [
              "True"
            ]
          },
          "metadata": {},
          "execution_count": 10
        }
      ]
    },
    {
      "cell_type": "code",
      "source": [
        "#solicitar que o usuario digite um nome.\n",
        "\n",
        "nome = input('Digite o nome! ')\n",
        "if(nome.isdigit()):\n",
        "  print('Entrada incorreta!')\n",
        "else:\n",
        "  print(f'o nome {nome} foi inserido com sucesso')"
      ],
      "metadata": {
        "colab": {
          "base_uri": "https://localhost:8080/"
        },
        "id": "Z26Ds3_HZy3y",
        "outputId": "540bfdb3-33bd-4015-c858-46bfbb5c0ff6"
      },
      "execution_count": 11,
      "outputs": [
        {
          "output_type": "stream",
          "name": "stdout",
          "text": [
            "Digite o nome! Duda\n",
            "o nome Duda foi inserido com sucesso\n"
          ]
        }
      ]
    },
    {
      "cell_type": "code",
      "source": [
        "texto = input('digita ai')\n",
        "texto.isalpha()"
      ],
      "metadata": {
        "colab": {
          "base_uri": "https://localhost:8080/"
        },
        "id": "kvwPjPRiaW9z",
        "outputId": "9c3033c3-f087-4ec0-a50d-88aa546639de"
      },
      "execution_count": 14,
      "outputs": [
        {
          "name": "stdout",
          "output_type": "stream",
          "text": [
            "digita aiBruno\n"
          ]
        },
        {
          "output_type": "execute_result",
          "data": {
            "text/plain": [
              "True"
            ]
          },
          "metadata": {},
          "execution_count": 14
        }
      ]
    },
    {
      "cell_type": "code",
      "source": [
        "#Solicitar que o usuario digite nomes de animais que serão inseridos na lista\n",
        "animais = []\n",
        "while True:\n",
        "  animais = input('digite o nome do animal: ')\n",
        "  break\n",
        "  animais.append(animal)\n",
        "  animal = input('digite o nome do animal: ')\n",
        "\n",
        "  animais\n",
        "\n",
        "\n"
      ],
      "metadata": {
        "colab": {
          "base_uri": "https://localhost:8080/"
        },
        "id": "YloQb0IqbGZt",
        "outputId": "9c996c0a-eb3d-40eb-cabe-98de0c53ffeb"
      },
      "execution_count": 18,
      "outputs": [
        {
          "name": "stdout",
          "output_type": "stream",
          "text": [
            "digite o nome do animal: Asno\n"
          ]
        }
      ]
    }
  ]
}