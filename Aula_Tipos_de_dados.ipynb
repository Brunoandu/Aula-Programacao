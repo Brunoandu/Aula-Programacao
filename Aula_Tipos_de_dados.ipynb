{
  "nbformat": 4,
  "nbformat_minor": 0,
  "metadata": {
    "colab": {
      "provenance": [],
      "authorship_tag": "ABX9TyMrAWsef9lvTPax10xhvCyO",
      "include_colab_link": true
    },
    "kernelspec": {
      "name": "python3",
      "display_name": "Python 3"
    },
    "language_info": {
      "name": "python"
    }
  },
  "cells": [
    {
      "cell_type": "markdown",
      "metadata": {
        "id": "view-in-github",
        "colab_type": "text"
      },
      "source": [
        "<a href=\"https://colab.research.google.com/github/Brunoandu/Aula-Programacao/blob/main/Aula_Tipos_de_dados.ipynb\" target=\"_parent\"><img src=\"https://colab.research.google.com/assets/colab-badge.svg\" alt=\"Open In Colab\"/></a>"
      ]
    },
    {
      "cell_type": "code",
      "execution_count": null,
      "metadata": {
        "colab": {
          "base_uri": "https://localhost:8080/"
        },
        "id": "81gN60mzBq0s",
        "outputId": "75e902a5-dca4-4b2b-f759-fec506fc169c"
      },
      "outputs": [
        {
          "output_type": "stream",
          "name": "stdout",
          "text": [
            "Meu primeiro notebook\n"
          ]
        }
      ],
      "source": [
        "print('Meu primeiro notebook')"
      ]
    },
    {
      "cell_type": "code",
      "source": [
        "nome = 'Pablo Ramon'\n",
        "print(nome)"
      ],
      "metadata": {
        "colab": {
          "base_uri": "https://localhost:8080/"
        },
        "id": "ZkW9f0vcCjMM",
        "outputId": "611eb21c-2641-4474-b838-2681bce8b89b"
      },
      "execution_count": null,
      "outputs": [
        {
          "output_type": "stream",
          "name": "stdout",
          "text": [
            "Pablo Ramon\n"
          ]
        }
      ]
    },
    {
      "cell_type": "markdown",
      "source": [
        "Tipos de dados Booleanos"
      ],
      "metadata": {
        "id": "B2tPmM3hKvxb"
      }
    },
    {
      "cell_type": "code",
      "source": [
        "#Descobrir Tipo de variável\n",
        "type(nome)"
      ],
      "metadata": {
        "colab": {
          "base_uri": "https://localhost:8080/"
        },
        "id": "ReYPNr-wCw1z",
        "outputId": "6eedcfc5-5fed-4301-b106-3190f75d5694"
      },
      "execution_count": null,
      "outputs": [
        {
          "output_type": "execute_result",
          "data": {
            "text/plain": [
              "str"
            ]
          },
          "metadata": {},
          "execution_count": 3
        }
      ]
    },
    {
      "cell_type": "code",
      "source": [
        "a = 100\n",
        "b = 25.6\n",
        "c = a > b\n",
        "d = 'Chipanze'"
      ],
      "metadata": {
        "id": "46Hwytj6EDk5"
      },
      "execution_count": null,
      "outputs": []
    },
    {
      "cell_type": "code",
      "source": [
        "type(a)"
      ],
      "metadata": {
        "colab": {
          "base_uri": "https://localhost:8080/"
        },
        "id": "wXYACV5qEg2b",
        "outputId": "09d43de8-3485-4a50-ad60-85a22d8633e3"
      },
      "execution_count": null,
      "outputs": [
        {
          "output_type": "execute_result",
          "data": {
            "text/plain": [
              "int"
            ]
          },
          "metadata": {},
          "execution_count": 5
        }
      ]
    },
    {
      "cell_type": "code",
      "source": [
        "type(b)"
      ],
      "metadata": {
        "colab": {
          "base_uri": "https://localhost:8080/"
        },
        "id": "LlxMm88cE0_V",
        "outputId": "db07cbdd-2713-4954-c47f-8132b24b11ff"
      },
      "execution_count": null,
      "outputs": [
        {
          "output_type": "execute_result",
          "data": {
            "text/plain": [
              "float"
            ]
          },
          "metadata": {},
          "execution_count": 6
        }
      ]
    },
    {
      "cell_type": "code",
      "source": [
        "type(c)"
      ],
      "metadata": {
        "colab": {
          "base_uri": "https://localhost:8080/"
        },
        "id": "a9zK5fRtE9md",
        "outputId": "3c8dda01-94a9-4bd3-b66c-6d41bb0d3b30"
      },
      "execution_count": null,
      "outputs": [
        {
          "output_type": "execute_result",
          "data": {
            "text/plain": [
              "bool"
            ]
          },
          "metadata": {},
          "execution_count": 7
        }
      ]
    },
    {
      "cell_type": "code",
      "source": [
        "type(d)"
      ],
      "metadata": {
        "id": "43xWy8YrFJGR",
        "outputId": "c935829b-e113-4e05-edac-8ffba2a686ad",
        "colab": {
          "base_uri": "https://localhost:8080/"
        }
      },
      "execution_count": null,
      "outputs": [
        {
          "output_type": "execute_result",
          "data": {
            "text/plain": [
              "str"
            ]
          },
          "metadata": {},
          "execution_count": 8
        }
      ]
    },
    {
      "cell_type": "code",
      "source": [
        "a = 100 < 200\n",
        "b = 85 == 6\n",
        "c = 'pablo' == 'pablo'\n",
        "d = 25 == '25'\n",
        "e = 30 == (6*5)\n",
        "f = 'Flamengo'  != 'Vasco'"
      ],
      "metadata": {
        "id": "jKUOHvtHLqmp"
      },
      "execution_count": 13,
      "outputs": []
    },
    {
      "cell_type": "code",
      "source": [
        "print(a)\n",
        "print(b)\n",
        "print(c)\n",
        "print(d)\n",
        "print(e)\n",
        "print(f)"
      ],
      "metadata": {
        "colab": {
          "base_uri": "https://localhost:8080/"
        },
        "id": "qGrid1AhMbUg",
        "outputId": "4ff21b28-2f1c-41b5-a50a-423da92cdbc3"
      },
      "execution_count": 14,
      "outputs": [
        {
          "output_type": "stream",
          "name": "stdout",
          "text": [
            "True\n",
            "False\n",
            "True\n",
            "False\n",
            "True\n",
            "True\n"
          ]
        }
      ]
    },
    {
      "cell_type": "code",
      "source": [
        "notaAprovacao = 7.0\n",
        "notaWalison = 8.0\n",
        "print(notaAprovacao < notaWalison)"
      ],
      "metadata": {
        "colab": {
          "base_uri": "https://localhost:8080/"
        },
        "id": "2x3QZSiNMxU_",
        "outputId": "d2c25d79-a081-4e92-fbe0-fb87ff9efeb5"
      },
      "execution_count": 15,
      "outputs": [
        {
          "output_type": "stream",
          "name": "stdout",
          "text": [
            "True\n"
          ]
        }
      ]
    },
    {
      "cell_type": "code",
      "source": [
        "if(notaWalison >= notaAprovacao):\n",
        "  print('Aprovado')"
      ],
      "metadata": {
        "colab": {
          "base_uri": "https://localhost:8080/"
        },
        "id": "jvnZPwMhOGKG",
        "outputId": "0b9b9e3c-98fe-45c2-eb71-141fefbeb74f"
      },
      "execution_count": 20,
      "outputs": [
        {
          "output_type": "stream",
          "name": "stdout",
          "text": [
            "Aprovado\n"
          ]
        }
      ]
    },
    {
      "cell_type": "code",
      "source": [
        "if(notaWalison >= notaAprovacao):\n",
        "  print('Aprovado')\n",
        "else:\n",
        "  print('Reprovado')\n"
      ],
      "metadata": {
        "colab": {
          "base_uri": "https://localhost:8080/"
        },
        "id": "fXxqoeRYOKWX",
        "outputId": "712bd81a-8e0e-4d61-815f-4308300400e5"
      },
      "execution_count": 23,
      "outputs": [
        {
          "output_type": "stream",
          "name": "stdout",
          "text": [
            "Aprovado\n"
          ]
        }
      ]
    },
    {
      "cell_type": "code",
      "source": [
        "NotaReprovado = 3.0\n",
        "NotaAprovacao = 7.0\n",
        "notaWalison = 7.0\n",
        "print(notaAprovacao < notaWalison)\n"
      ],
      "metadata": {
        "colab": {
          "base_uri": "https://localhost:8080/"
        },
        "id": "2_bsqNHBPYpJ",
        "outputId": "2a036ee8-0963-4b02-d1b8-0ce325836452"
      },
      "execution_count": 34,
      "outputs": [
        {
          "output_type": "stream",
          "name": "stdout",
          "text": [
            "False\n"
          ]
        }
      ]
    },
    {
      "cell_type": "code",
      "source": [
        "if(notaWalison >= 7.0):\n",
        "  print('Aprovado')\n",
        "elif(notaWalison >= 4 and notaWalison < 7):\n",
        "  print('Recuperacao')\n",
        "else:\n",
        "  print('Reprovado')"
      ],
      "metadata": {
        "colab": {
          "base_uri": "https://localhost:8080/"
        },
        "id": "Z2JfJcb4Qn6T",
        "outputId": "d191e7d8-a2f0-444f-e337-521635fd3c9c"
      },
      "execution_count": 39,
      "outputs": [
        {
          "output_type": "stream",
          "name": "stdout",
          "text": [
            "Aprovado\n"
          ]
        }
      ]
    },
    {
      "cell_type": "code",
      "source": [
        "if(notaWalison <4):\n",
        "  print('Reprovado')\n",
        "elif(notaWalison < 7):\n",
        "  print('Recuperacao')\n",
        "else:\n",
        "  print('Aprovado')"
      ],
      "metadata": {
        "colab": {
          "base_uri": "https://localhost:8080/"
        },
        "id": "7Bf6B4vOTNY3",
        "outputId": "dcb5b6b7-2455-4c45-afdb-cc561b71facc"
      },
      "execution_count": 40,
      "outputs": [
        {
          "output_type": "stream",
          "name": "stdout",
          "text": [
            "Aprovado\n"
          ]
        }
      ]
    },
    {
      "cell_type": "markdown",
      "source": [
        "Input de dados no Pyton"
      ],
      "metadata": {
        "id": "b6cubFW3UZ1C"
      }
    },
    {
      "cell_type": "code",
      "source": [
        "nota1 = float(input('Digite a nota,fi! '))\n",
        "nota2 = float(input('Digite a segunda nota! '))\n",
        "nota3 = float(input('Digite a terceira nota! '))\n",
        "media = (nota1 + nota2 + nota3)/3\n",
        "print(media)"
      ],
      "metadata": {
        "colab": {
          "base_uri": "https://localhost:8080/"
        },
        "id": "4RLv-5FKUeyR",
        "outputId": "dc959239-b751-4f04-acca-d42ec52ef1dd"
      },
      "execution_count": 49,
      "outputs": [
        {
          "output_type": "stream",
          "name": "stdout",
          "text": [
            "Digite a nota,fi! 8\n",
            "Digite a segunda nota! 6\n",
            "Digite a terceira nota! 10\n",
            "8.0\n"
          ]
        }
      ]
    }
  ]
}